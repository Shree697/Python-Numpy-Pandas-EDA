{
 "cells": [
  {
   "cell_type": "code",
   "execution_count": 1,
   "id": "6b5c8675",
   "metadata": {},
   "outputs": [],
   "source": [
    "#importing the required libraries\n",
    "import numpy as np\n",
    "import pandas as pd\n",
    "import matplotlib.pyplot as plt\n",
    "import seaborn as sns"
   ]
  },
  {
   "cell_type": "code",
   "execution_count": 2,
   "id": "43a41f7a",
   "metadata": {},
   "outputs": [],
   "source": [
    "#Data loading\n",
    "data = pd.read_csv(\"train.csv\")"
   ]
  },
  {
   "cell_type": "code",
   "execution_count": null,
   "id": "0b9ce359",
   "metadata": {},
   "outputs": [],
   "source": [
    "## Look around -- shape (rows and columns), head()/tail(), info()"
   ]
  },
  {
   "cell_type": "code",
   "execution_count": 3,
   "id": "c25f37c2",
   "metadata": {},
   "outputs": [
    {
     "name": "stdout",
     "output_type": "stream",
     "text": [
      "<class 'pandas.core.frame.DataFrame'>\n",
      "RangeIndex: 263015 entries, 0 to 263014\n",
      "Data columns (total 12 columns):\n",
      " #   Column                      Non-Null Count   Dtype  \n",
      "---  ------                      --------------   -----  \n",
      " 0   User_ID                     263015 non-null  int64  \n",
      " 1   Product_ID                  263014 non-null  object \n",
      " 2   Gender                      263014 non-null  object \n",
      " 3   Age                         263014 non-null  object \n",
      " 4   Occupation                  263014 non-null  float64\n",
      " 5   City_Category               263014 non-null  object \n",
      " 6   Stay_In_Current_City_Years  263014 non-null  object \n",
      " 7   Marital_Status              263014 non-null  float64\n",
      " 8   Product_Category_1          263014 non-null  float64\n",
      " 9   Product_Category_2          181501 non-null  float64\n",
      " 10  Product_Category_3          80582 non-null   float64\n",
      " 11  Purchase                    263014 non-null  float64\n",
      "dtypes: float64(6), int64(1), object(5)\n",
      "memory usage: 24.1+ MB\n"
     ]
    }
   ],
   "source": [
    "data.info()"
   ]
  },
  {
   "cell_type": "code",
   "execution_count": 4,
   "id": "5d27aeb1",
   "metadata": {},
   "outputs": [
    {
     "data": {
      "text/html": [
       "<div>\n",
       "<style scoped>\n",
       "    .dataframe tbody tr th:only-of-type {\n",
       "        vertical-align: middle;\n",
       "    }\n",
       "\n",
       "    .dataframe tbody tr th {\n",
       "        vertical-align: top;\n",
       "    }\n",
       "\n",
       "    .dataframe thead th {\n",
       "        text-align: right;\n",
       "    }\n",
       "</style>\n",
       "<table border=\"1\" class=\"dataframe\">\n",
       "  <thead>\n",
       "    <tr style=\"text-align: right;\">\n",
       "      <th></th>\n",
       "      <th>User_ID</th>\n",
       "      <th>Product_ID</th>\n",
       "      <th>Gender</th>\n",
       "      <th>Age</th>\n",
       "      <th>Occupation</th>\n",
       "      <th>City_Category</th>\n",
       "      <th>Stay_In_Current_City_Years</th>\n",
       "      <th>Marital_Status</th>\n",
       "      <th>Product_Category_1</th>\n",
       "      <th>Product_Category_2</th>\n",
       "      <th>Product_Category_3</th>\n",
       "      <th>Purchase</th>\n",
       "    </tr>\n",
       "  </thead>\n",
       "  <tbody>\n",
       "    <tr>\n",
       "      <th>0</th>\n",
       "      <td>1000001</td>\n",
       "      <td>P00069042</td>\n",
       "      <td>F</td>\n",
       "      <td>0-17</td>\n",
       "      <td>10.0</td>\n",
       "      <td>A</td>\n",
       "      <td>2</td>\n",
       "      <td>0.0</td>\n",
       "      <td>3.0</td>\n",
       "      <td>NaN</td>\n",
       "      <td>NaN</td>\n",
       "      <td>8370.0</td>\n",
       "    </tr>\n",
       "    <tr>\n",
       "      <th>1</th>\n",
       "      <td>1000001</td>\n",
       "      <td>P00248942</td>\n",
       "      <td>F</td>\n",
       "      <td>0-17</td>\n",
       "      <td>10.0</td>\n",
       "      <td>A</td>\n",
       "      <td>2</td>\n",
       "      <td>0.0</td>\n",
       "      <td>1.0</td>\n",
       "      <td>6.0</td>\n",
       "      <td>14.0</td>\n",
       "      <td>15200.0</td>\n",
       "    </tr>\n",
       "    <tr>\n",
       "      <th>2</th>\n",
       "      <td>1000001</td>\n",
       "      <td>P00087842</td>\n",
       "      <td>F</td>\n",
       "      <td>0-17</td>\n",
       "      <td>10.0</td>\n",
       "      <td>A</td>\n",
       "      <td>2</td>\n",
       "      <td>0.0</td>\n",
       "      <td>12.0</td>\n",
       "      <td>NaN</td>\n",
       "      <td>NaN</td>\n",
       "      <td>1422.0</td>\n",
       "    </tr>\n",
       "    <tr>\n",
       "      <th>3</th>\n",
       "      <td>1000001</td>\n",
       "      <td>P00085442</td>\n",
       "      <td>F</td>\n",
       "      <td>0-17</td>\n",
       "      <td>10.0</td>\n",
       "      <td>A</td>\n",
       "      <td>2</td>\n",
       "      <td>0.0</td>\n",
       "      <td>12.0</td>\n",
       "      <td>14.0</td>\n",
       "      <td>NaN</td>\n",
       "      <td>1057.0</td>\n",
       "    </tr>\n",
       "    <tr>\n",
       "      <th>4</th>\n",
       "      <td>1000002</td>\n",
       "      <td>P00285442</td>\n",
       "      <td>M</td>\n",
       "      <td>55+</td>\n",
       "      <td>16.0</td>\n",
       "      <td>C</td>\n",
       "      <td>4+</td>\n",
       "      <td>0.0</td>\n",
       "      <td>8.0</td>\n",
       "      <td>NaN</td>\n",
       "      <td>NaN</td>\n",
       "      <td>7969.0</td>\n",
       "    </tr>\n",
       "  </tbody>\n",
       "</table>\n",
       "</div>"
      ],
      "text/plain": [
       "   User_ID Product_ID Gender   Age  Occupation City_Category  \\\n",
       "0  1000001  P00069042      F  0-17        10.0             A   \n",
       "1  1000001  P00248942      F  0-17        10.0             A   \n",
       "2  1000001  P00087842      F  0-17        10.0             A   \n",
       "3  1000001  P00085442      F  0-17        10.0             A   \n",
       "4  1000002  P00285442      M   55+        16.0             C   \n",
       "\n",
       "  Stay_In_Current_City_Years  Marital_Status  Product_Category_1  \\\n",
       "0                          2             0.0                 3.0   \n",
       "1                          2             0.0                 1.0   \n",
       "2                          2             0.0                12.0   \n",
       "3                          2             0.0                12.0   \n",
       "4                         4+             0.0                 8.0   \n",
       "\n",
       "   Product_Category_2  Product_Category_3  Purchase  \n",
       "0                 NaN                 NaN    8370.0  \n",
       "1                 6.0                14.0   15200.0  \n",
       "2                 NaN                 NaN    1422.0  \n",
       "3                14.0                 NaN    1057.0  \n",
       "4                 NaN                 NaN    7969.0  "
      ]
     },
     "execution_count": 4,
     "metadata": {},
     "output_type": "execute_result"
    }
   ],
   "source": [
    "#print top 5 rows of the dataset\n",
    "data.head()"
   ]
  },
  {
   "cell_type": "code",
   "execution_count": 5,
   "id": "894367f4",
   "metadata": {},
   "outputs": [
    {
     "data": {
      "text/plain": [
       "Index(['User_ID', 'Product_ID', 'Gender', 'Age', 'Occupation', 'City_Category',\n",
       "       'Stay_In_Current_City_Years', 'Marital_Status', 'Product_Category_1',\n",
       "       'Product_Category_2', 'Product_Category_3', 'Purchase'],\n",
       "      dtype='object')"
      ]
     },
     "execution_count": 5,
     "metadata": {},
     "output_type": "execute_result"
    }
   ],
   "source": [
    "#column names\n",
    "data.columns"
   ]
  },
  {
   "cell_type": "code",
   "execution_count": 6,
   "id": "a4507063",
   "metadata": {},
   "outputs": [],
   "source": [
    "#How to convert object to numerical data?\n",
    "#label encoding\n",
    "from sklearn.preprocessing import LabelEncoder"
   ]
  },
  {
   "cell_type": "code",
   "execution_count": 7,
   "id": "8ea383bb",
   "metadata": {},
   "outputs": [
    {
     "data": {
      "text/plain": [
       "array(['2', '4+', '3', '1', '0', nan], dtype=object)"
      ]
     },
     "execution_count": 7,
     "metadata": {},
     "output_type": "execute_result"
    }
   ],
   "source": [
    "data['Stay_In_Current_City_Years'].unique()"
   ]
  },
  {
   "cell_type": "code",
   "execution_count": 8,
   "id": "d4453ba9",
   "metadata": {},
   "outputs": [],
   "source": [
    "#Changing all values from 4+ to 4\n",
    "data['Stay_In_Current_City_Years'] = data['Stay_In_Current_City_Years'].replace('4+', '4')"
   ]
  },
  {
   "cell_type": "code",
   "execution_count": 9,
   "id": "b7533fca",
   "metadata": {},
   "outputs": [
    {
     "data": {
      "text/plain": [
       "User_ID                            0\n",
       "Product_ID                         1\n",
       "Gender                             1\n",
       "Age                                1\n",
       "Occupation                         1\n",
       "City_Category                      1\n",
       "Stay_In_Current_City_Years         1\n",
       "Marital_Status                     1\n",
       "Product_Category_1                 1\n",
       "Product_Category_2             81514\n",
       "Product_Category_3            182433\n",
       "Purchase                           1\n",
       "dtype: int64"
      ]
     },
     "execution_count": 9,
     "metadata": {},
     "output_type": "execute_result"
    }
   ],
   "source": [
    "#to check the null values\n",
    "data.isnull().sum()"
   ]
  },
  {
   "cell_type": "code",
   "execution_count": 10,
   "id": "f1dd95f3",
   "metadata": {},
   "outputs": [],
   "source": [
    "#changing the datatype to integer\n",
    "data.dropna(inplace = True)\n",
    "data['Stay_In_Current_City_Years'] = data['Stay_In_Current_City_Years'].astype(int)"
   ]
  },
  {
   "cell_type": "code",
   "execution_count": 11,
   "id": "778ef92b",
   "metadata": {},
   "outputs": [
    {
     "name": "stdout",
     "output_type": "stream",
     "text": [
      "<class 'pandas.core.frame.DataFrame'>\n",
      "Int64Index: 80582 entries, 1 to 263011\n",
      "Data columns (total 12 columns):\n",
      " #   Column                      Non-Null Count  Dtype  \n",
      "---  ------                      --------------  -----  \n",
      " 0   User_ID                     80582 non-null  int64  \n",
      " 1   Product_ID                  80582 non-null  object \n",
      " 2   Gender                      80582 non-null  object \n",
      " 3   Age                         80582 non-null  object \n",
      " 4   Occupation                  80582 non-null  float64\n",
      " 5   City_Category               80582 non-null  object \n",
      " 6   Stay_In_Current_City_Years  80582 non-null  int32  \n",
      " 7   Marital_Status              80582 non-null  float64\n",
      " 8   Product_Category_1          80582 non-null  float64\n",
      " 9   Product_Category_2          80582 non-null  float64\n",
      " 10  Product_Category_3          80582 non-null  float64\n",
      " 11  Purchase                    80582 non-null  float64\n",
      "dtypes: float64(6), int32(1), int64(1), object(4)\n",
      "memory usage: 7.7+ MB\n"
     ]
    }
   ],
   "source": [
    "data.info()"
   ]
  },
  {
   "cell_type": "code",
   "execution_count": 12,
   "id": "733b5b9b",
   "metadata": {},
   "outputs": [
    {
     "data": {
      "text/plain": [
       "User_ID                       0\n",
       "Product_ID                    0\n",
       "Gender                        0\n",
       "Age                           0\n",
       "Occupation                    0\n",
       "City_Category                 0\n",
       "Stay_In_Current_City_Years    0\n",
       "Marital_Status                0\n",
       "Product_Category_1            0\n",
       "Product_Category_2            0\n",
       "Product_Category_3            0\n",
       "Purchase                      0\n",
       "dtype: int64"
      ]
     },
     "execution_count": 12,
     "metadata": {},
     "output_type": "execute_result"
    }
   ],
   "source": [
    "data.isnull().sum()"
   ]
  },
  {
   "cell_type": "code",
   "execution_count": 14,
   "id": "79de38f7",
   "metadata": {},
   "outputs": [],
   "source": [
    "data = data.reset_index(drop=True)"
   ]
  },
  {
   "cell_type": "code",
   "execution_count": 15,
   "id": "10e8601a",
   "metadata": {},
   "outputs": [
    {
     "name": "stdout",
     "output_type": "stream",
     "text": [
      "<class 'pandas.core.frame.DataFrame'>\n",
      "RangeIndex: 80582 entries, 0 to 80581\n",
      "Data columns (total 12 columns):\n",
      " #   Column                      Non-Null Count  Dtype  \n",
      "---  ------                      --------------  -----  \n",
      " 0   User_ID                     80582 non-null  int64  \n",
      " 1   Product_ID                  80582 non-null  object \n",
      " 2   Gender                      80582 non-null  object \n",
      " 3   Age                         80582 non-null  object \n",
      " 4   Occupation                  80582 non-null  float64\n",
      " 5   City_Category               80582 non-null  object \n",
      " 6   Stay_In_Current_City_Years  80582 non-null  int32  \n",
      " 7   Marital_Status              80582 non-null  float64\n",
      " 8   Product_Category_1          80582 non-null  float64\n",
      " 9   Product_Category_2          80582 non-null  float64\n",
      " 10  Product_Category_3          80582 non-null  float64\n",
      " 11  Purchase                    80582 non-null  float64\n",
      "dtypes: float64(6), int32(1), int64(1), object(4)\n",
      "memory usage: 7.1+ MB\n"
     ]
    }
   ],
   "source": [
    "data.info()"
   ]
  },
  {
   "cell_type": "code",
   "execution_count": 16,
   "id": "64c59d90",
   "metadata": {},
   "outputs": [
    {
     "data": {
      "text/html": [
       "<div>\n",
       "<style scoped>\n",
       "    .dataframe tbody tr th:only-of-type {\n",
       "        vertical-align: middle;\n",
       "    }\n",
       "\n",
       "    .dataframe tbody tr th {\n",
       "        vertical-align: top;\n",
       "    }\n",
       "\n",
       "    .dataframe thead th {\n",
       "        text-align: right;\n",
       "    }\n",
       "</style>\n",
       "<table border=\"1\" class=\"dataframe\">\n",
       "  <thead>\n",
       "    <tr style=\"text-align: right;\">\n",
       "      <th></th>\n",
       "      <th>User_ID</th>\n",
       "      <th>Occupation</th>\n",
       "      <th>Stay_In_Current_City_Years</th>\n",
       "      <th>Marital_Status</th>\n",
       "      <th>Product_Category_1</th>\n",
       "      <th>Product_Category_2</th>\n",
       "      <th>Product_Category_3</th>\n",
       "      <th>Purchase</th>\n",
       "    </tr>\n",
       "  </thead>\n",
       "  <tbody>\n",
       "    <tr>\n",
       "      <th>count</th>\n",
       "      <td>8.058200e+04</td>\n",
       "      <td>80582.000000</td>\n",
       "      <td>80582.000000</td>\n",
       "      <td>80582.000000</td>\n",
       "      <td>80582.000000</td>\n",
       "      <td>80582.000000</td>\n",
       "      <td>80582.000000</td>\n",
       "      <td>80582.000000</td>\n",
       "    </tr>\n",
       "    <tr>\n",
       "      <th>mean</th>\n",
       "      <td>1.002950e+06</td>\n",
       "      <td>8.173426</td>\n",
       "      <td>1.860775</td>\n",
       "      <td>0.401752</td>\n",
       "      <td>2.738366</td>\n",
       "      <td>6.892085</td>\n",
       "      <td>12.658298</td>\n",
       "      <td>11628.183279</td>\n",
       "    </tr>\n",
       "    <tr>\n",
       "      <th>std</th>\n",
       "      <td>1.706623e+03</td>\n",
       "      <td>6.487913</td>\n",
       "      <td>1.285501</td>\n",
       "      <td>0.490255</td>\n",
       "      <td>2.563225</td>\n",
       "      <td>4.498417</td>\n",
       "      <td>4.129156</td>\n",
       "      <td>5069.515441</td>\n",
       "    </tr>\n",
       "    <tr>\n",
       "      <th>min</th>\n",
       "      <td>1.000001e+06</td>\n",
       "      <td>0.000000</td>\n",
       "      <td>0.000000</td>\n",
       "      <td>0.000000</td>\n",
       "      <td>1.000000</td>\n",
       "      <td>2.000000</td>\n",
       "      <td>3.000000</td>\n",
       "      <td>186.000000</td>\n",
       "    </tr>\n",
       "    <tr>\n",
       "      <th>25%</th>\n",
       "      <td>1.001470e+06</td>\n",
       "      <td>2.000000</td>\n",
       "      <td>1.000000</td>\n",
       "      <td>0.000000</td>\n",
       "      <td>1.000000</td>\n",
       "      <td>2.000000</td>\n",
       "      <td>9.000000</td>\n",
       "      <td>7868.000000</td>\n",
       "    </tr>\n",
       "    <tr>\n",
       "      <th>50%</th>\n",
       "      <td>1.002996e+06</td>\n",
       "      <td>7.000000</td>\n",
       "      <td>2.000000</td>\n",
       "      <td>0.000000</td>\n",
       "      <td>1.000000</td>\n",
       "      <td>6.000000</td>\n",
       "      <td>14.000000</td>\n",
       "      <td>11744.500000</td>\n",
       "    </tr>\n",
       "    <tr>\n",
       "      <th>75%</th>\n",
       "      <td>1.004326e+06</td>\n",
       "      <td>14.000000</td>\n",
       "      <td>3.000000</td>\n",
       "      <td>1.000000</td>\n",
       "      <td>4.000000</td>\n",
       "      <td>10.000000</td>\n",
       "      <td>16.000000</td>\n",
       "      <td>15610.000000</td>\n",
       "    </tr>\n",
       "    <tr>\n",
       "      <th>max</th>\n",
       "      <td>1.006040e+06</td>\n",
       "      <td>20.000000</td>\n",
       "      <td>4.000000</td>\n",
       "      <td>1.000000</td>\n",
       "      <td>15.000000</td>\n",
       "      <td>16.000000</td>\n",
       "      <td>18.000000</td>\n",
       "      <td>23958.000000</td>\n",
       "    </tr>\n",
       "  </tbody>\n",
       "</table>\n",
       "</div>"
      ],
      "text/plain": [
       "            User_ID    Occupation  Stay_In_Current_City_Years  Marital_Status  \\\n",
       "count  8.058200e+04  80582.000000                80582.000000    80582.000000   \n",
       "mean   1.002950e+06      8.173426                    1.860775        0.401752   \n",
       "std    1.706623e+03      6.487913                    1.285501        0.490255   \n",
       "min    1.000001e+06      0.000000                    0.000000        0.000000   \n",
       "25%    1.001470e+06      2.000000                    1.000000        0.000000   \n",
       "50%    1.002996e+06      7.000000                    2.000000        0.000000   \n",
       "75%    1.004326e+06     14.000000                    3.000000        1.000000   \n",
       "max    1.006040e+06     20.000000                    4.000000        1.000000   \n",
       "\n",
       "       Product_Category_1  Product_Category_2  Product_Category_3  \\\n",
       "count        80582.000000        80582.000000        80582.000000   \n",
       "mean             2.738366            6.892085           12.658298   \n",
       "std              2.563225            4.498417            4.129156   \n",
       "min              1.000000            2.000000            3.000000   \n",
       "25%              1.000000            2.000000            9.000000   \n",
       "50%              1.000000            6.000000           14.000000   \n",
       "75%              4.000000           10.000000           16.000000   \n",
       "max             15.000000           16.000000           18.000000   \n",
       "\n",
       "           Purchase  \n",
       "count  80582.000000  \n",
       "mean   11628.183279  \n",
       "std     5069.515441  \n",
       "min      186.000000  \n",
       "25%     7868.000000  \n",
       "50%    11744.500000  \n",
       "75%    15610.000000  \n",
       "max    23958.000000  "
      ]
     },
     "execution_count": 16,
     "metadata": {},
     "output_type": "execute_result"
    }
   ],
   "source": [
    "data.describe()"
   ]
  },
  {
   "cell_type": "code",
   "execution_count": 17,
   "id": "b3e72ceb",
   "metadata": {},
   "outputs": [
    {
     "data": {
      "text/plain": [
       "Index(['User_ID', 'Product_ID', 'Gender', 'Age', 'Occupation', 'City_Category',\n",
       "       'Stay_In_Current_City_Years', 'Marital_Status', 'Product_Category_1',\n",
       "       'Product_Category_2', 'Product_Category_3', 'Purchase'],\n",
       "      dtype='object')"
      ]
     },
     "execution_count": 17,
     "metadata": {},
     "output_type": "execute_result"
    }
   ],
   "source": [
    "data.columns"
   ]
  },
  {
   "cell_type": "code",
   "execution_count": 22,
   "id": "40394b58",
   "metadata": {},
   "outputs": [
    {
     "data": {
      "text/plain": [
       "M    62549\n",
       "F    18033\n",
       "Name: Gender, dtype: int64"
      ]
     },
     "execution_count": 22,
     "metadata": {},
     "output_type": "execute_result"
    }
   ],
   "source": [
    "data['Gender'].value_counts()"
   ]
  },
  {
   "cell_type": "code",
   "execution_count": 30,
   "id": "04413ea1",
   "metadata": {},
   "outputs": [
    {
     "name": "stdout",
     "output_type": "stream",
     "text": [
      "62549\n",
      "18033\n"
     ]
    }
   ],
   "source": [
    "print(data[data['Gender']=='M']['User_ID'].count())\n",
    "print(data[data['Gender']=='F']['User_ID'].count())\n"
   ]
  },
  {
   "cell_type": "code",
   "execution_count": 25,
   "id": "ebb8e298",
   "metadata": {},
   "outputs": [
    {
     "data": {
      "text/plain": [
       "<AxesSubplot:xlabel='Gender', ylabel='count'>"
      ]
     },
     "execution_count": 25,
     "metadata": {},
     "output_type": "execute_result"
    },
    {
     "data": {
      "image/png": "[encoded data removed]",
      "text/plain": [
       "<Figure size 432x288 with 1 Axes>"
      ]
     },
     "metadata": {
      "needs_background": "light"
     },
     "output_type": "display_data"
    }
   ],
   "source": [
    "#visualizations to understand the distribution of the various features\n",
    "sns.countplot(data = data, x = 'Gender')"
   ]
  },
  {
   "cell_type": "code",
   "execution_count": 26,
   "id": "b10af0ed",
   "metadata": {},
   "outputs": [
    {
     "data": {
      "text/plain": [
       "<AxesSubplot:xlabel='Age', ylabel='count'>"
      ]
     },
     "execution_count": 26,
     "metadata": {},
     "output_type": "execute_result"
    },
    {
     "data": {
      "image/png": "[encoded data removed]",
      "text/plain": [
       "<Figure size 432x288 with 1 Axes>"
      ]
     },
     "metadata": {
      "needs_background": "light"
     },
     "output_type": "display_data"
    }
   ],
   "source": [
    "sns.countplot(data=data, x=\"Age\")"
   ]
  },
  {
   "cell_type": "code",
   "execution_count": 27,
   "id": "4ecdcbac",
   "metadata": {},
   "outputs": [
    {
     "data": {
      "text/plain": [
       "<AxesSubplot:xlabel='Age', ylabel='count'>"
      ]
     },
     "execution_count": 27,
     "metadata": {},
     "output_type": "execute_result"
    },
    {
     "data": {
      "image/png": "[encoded data removed]",
      "text/plain": [
       "<Figure size 432x288 with 1 Axes>"
      ]
     },
     "metadata": {
      "needs_background": "light"
     },
     "output_type": "display_data"
    }
   ],
   "source": [
    "sns.countplot(data=data, x=\"Age\", hue='Gender')"
   ]
  },
  {
   "cell_type": "code",
   "execution_count": 31,
   "id": "3714746a",
   "metadata": {},
   "outputs": [
    {
     "data": {
      "text/plain": [
       "<AxesSubplot:xlabel='Marital_Status', ylabel='count'>"
      ]
     },
     "execution_count": 31,
     "metadata": {},
     "output_type": "execute_result"
    },
    {
     "data": {
      "image/png": "[encoded data removed]",
      "text/plain": [
       "<Figure size 432x288 with 1 Axes>"
      ]
     },
     "metadata": {
      "needs_background": "light"
     },
     "output_type": "display_data"
    }
   ],
   "source": [
    "sns.countplot(data=data, x=\"Marital_Status\",  hue=\"Gender\")"
   ]
  },
  {
   "cell_type": "code",
   "execution_count": 33,
   "id": "894b9e30",
   "metadata": {},
   "outputs": [
    {
     "name": "stderr",
     "output_type": "stream",
     "text": [
      "C:\\Users\\jaina\\anaconda3\\lib\\site-packages\\seaborn\\_decorators.py:36: FutureWarning: Pass the following variable as a keyword arg: x. From version 0.12, the only valid positional argument will be `data`, and passing other arguments without an explicit keyword will result in an error or misinterpretation.\n",
      "  warnings.warn(\n"
     ]
    },
    {
     "data": {
      "text/plain": [
       "<AxesSubplot:xlabel='Product_Category_1', ylabel='count'>"
      ]
     },
     "execution_count": 33,
     "metadata": {},
     "output_type": "execute_result"
    },
    {
     "data": {
      "image/png": "[encoded data removed]",
      "text/plain": [
       "<Figure size 720x360 with 1 Axes>"
      ]
     },
     "metadata": {
      "needs_background": "light"
     },
     "output_type": "display_data"
    }
   ],
   "source": [
    "plt.figure(figsize=(10,5))\n",
    "sns.countplot(data['Product_Category_1']) #its frequency of unique values"
   ]
  },
  {
   "cell_type": "code",
   "execution_count": null,
   "id": "32d7b52f",
   "metadata": {},
   "outputs": [],
   "source": [
    "### The product_category_1 sees a great rise of product category 1 and lowest in 12th category"
   ]
  },
  {
   "cell_type": "code",
   "execution_count": 34,
   "id": "b58cefb8",
   "metadata": {},
   "outputs": [
    {
     "name": "stderr",
     "output_type": "stream",
     "text": [
      "C:\\Users\\jaina\\anaconda3\\lib\\site-packages\\seaborn\\_decorators.py:36: FutureWarning: Pass the following variable as a keyword arg: x. From version 0.12, the only valid positional argument will be `data`, and passing other arguments without an explicit keyword will result in an error or misinterpretation.\n",
      "  warnings.warn(\n"
     ]
    },
    {
     "data": {
      "text/plain": [
       "<AxesSubplot:xlabel='Product_Category_2', ylabel='count'>"
      ]
     },
     "execution_count": 34,
     "metadata": {},
     "output_type": "execute_result"
    },
    {
     "data": {
      "image/png": "[encoded data removed]",
      "text/plain": [
       "<Figure size 720x360 with 1 Axes>"
      ]
     },
     "metadata": {
      "needs_background": "light"
     },
     "output_type": "display_data"
    }
   ],
   "source": [
    "plt.figure(figsize=(10,5))\n",
    "sns.countplot(data['Product_Category_2'])"
   ]
  },
  {
   "cell_type": "code",
   "execution_count": null,
   "id": "c2605241",
   "metadata": {},
   "outputs": [],
   "source": [
    "# Product_Category_2 sees a considerate balance among categories. \n",
    "#With category 2 topping the charts, and other considerable categories are 8,,4,5,6,14,15,etc."
   ]
  },
  {
   "cell_type": "code",
   "execution_count": 35,
   "id": "953cb161",
   "metadata": {},
   "outputs": [
    {
     "name": "stderr",
     "output_type": "stream",
     "text": [
      "C:\\Users\\jaina\\anaconda3\\lib\\site-packages\\seaborn\\_decorators.py:36: FutureWarning: Pass the following variable as a keyword arg: x. From version 0.12, the only valid positional argument will be `data`, and passing other arguments without an explicit keyword will result in an error or misinterpretation.\n",
      "  warnings.warn(\n"
     ]
    },
    {
     "data": {
      "text/plain": [
       "<AxesSubplot:xlabel='Product_Category_3', ylabel='count'>"
      ]
     },
     "execution_count": 35,
     "metadata": {},
     "output_type": "execute_result"
    },
    {
     "data": {
      "image/png": "[encoded data removed]",
      "text/plain": [
       "<Figure size 720x360 with 1 Axes>"
      ]
     },
     "metadata": {
      "needs_background": "light"
     },
     "output_type": "display_data"
    }
   ],
   "source": [
    "plt.figure(figsize=(10,5))\n",
    "sns.countplot(data['Product_Category_3'])"
   ]
  },
  {
   "cell_type": "code",
   "execution_count": null,
   "id": "0a4ba744",
   "metadata": {},
   "outputs": [],
   "source": [
    "# For product_category_3, the balance is towards the end with 16 topping the charts, \n",
    "#and other considerable categories are 15, 14, 5, 8, 9, 17, etc."
   ]
  },
  {
   "cell_type": "code",
   "execution_count": 36,
   "id": "6c15ba90",
   "metadata": {},
   "outputs": [
    {
     "name": "stderr",
     "output_type": "stream",
     "text": [
      "C:\\Users\\jaina\\anaconda3\\lib\\site-packages\\seaborn\\_decorators.py:36: FutureWarning: Pass the following variable as a keyword arg: x. From version 0.12, the only valid positional argument will be `data`, and passing other arguments without an explicit keyword will result in an error or misinterpretation.\n",
      "  warnings.warn(\n"
     ]
    },
    {
     "data": {
      "text/plain": [
       "<AxesSubplot:xlabel='Occupation', ylabel='count'>"
      ]
     },
     "execution_count": 36,
     "metadata": {},
     "output_type": "execute_result"
    },
    {
     "data": {
      "image/png": "[encoded data removed]",
      "text/plain": [
       "<Figure size 720x360 with 1 Axes>"
      ]
     },
     "metadata": {
      "needs_background": "light"
     },
     "output_type": "display_data"
    }
   ],
   "source": [
    "plt.figure(figsize=(10,5))\n",
    "sns.countplot(data['Occupation'])"
   ]
  },
  {
   "cell_type": "code",
   "execution_count": null,
   "id": "dd157406",
   "metadata": {},
   "outputs": [],
   "source": [
    "### occupation also sees a constant balance with 4 topping the chart, \n",
    "#and other categories in the considerable amount with 0,1,2,7,12,17,20."
   ]
  },
  {
   "cell_type": "code",
   "execution_count": 37,
   "id": "4c303aee",
   "metadata": {},
   "outputs": [
    {
     "name": "stderr",
     "output_type": "stream",
     "text": [
      "C:\\Users\\jaina\\anaconda3\\lib\\site-packages\\seaborn\\_decorators.py:36: FutureWarning: Pass the following variable as a keyword arg: x. From version 0.12, the only valid positional argument will be `data`, and passing other arguments without an explicit keyword will result in an error or misinterpretation.\n",
      "  warnings.warn(\n"
     ]
    },
    {
     "data": {
      "text/plain": [
       "<AxesSubplot:xlabel='Stay_In_Current_City_Years', ylabel='count'>"
      ]
     },
     "execution_count": 37,
     "metadata": {},
     "output_type": "execute_result"
    },
    {
     "data": {
      "image/png": "[encoded data removed]",
      "text/plain": [
       "<Figure size 720x360 with 1 Axes>"
      ]
     },
     "metadata": {
      "needs_background": "light"
     },
     "output_type": "display_data"
    }
   ],
   "source": [
    "plt.figure(figsize=(10,5))\n",
    "sns.countplot(data['Stay_In_Current_City_Years'])"
   ]
  },
  {
   "cell_type": "code",
   "execution_count": null,
   "id": "5b950b01",
   "metadata": {},
   "outputs": [],
   "source": [
    "### Majority of the customers have stayed a year in the city."
   ]
  },
  {
   "cell_type": "code",
   "execution_count": 38,
   "id": "f37e7df0",
   "metadata": {},
   "outputs": [
    {
     "name": "stderr",
     "output_type": "stream",
     "text": [
      "C:\\Users\\jaina\\anaconda3\\lib\\site-packages\\seaborn\\distributions.py:2619: FutureWarning: `distplot` is a deprecated function and will be removed in a future version. Please adapt your code to use either `displot` (a figure-level function with similar flexibility) or `histplot` (an axes-level function for histograms).\n",
      "  warnings.warn(msg, FutureWarning)\n"
     ]
    },
    {
     "data": {
      "text/plain": [
       "<AxesSubplot:xlabel='Purchase', ylabel='Density'>"
      ]
     },
     "execution_count": 38,
     "metadata": {},
     "output_type": "execute_result"
    },
    {
     "data": {
      "image/png": "[encoded data removed]",
      "text/plain": [
       "<Figure size 432x288 with 1 Axes>"
      ]
     },
     "metadata": {
      "needs_background": "light"
     },
     "output_type": "display_data"
    }
   ],
   "source": [
    "sns.distplot(data['Purchase'])"
   ]
  },
  {
   "cell_type": "code",
   "execution_count": null,
   "id": "c56a441a",
   "metadata": {},
   "outputs": [],
   "source": [
    "#Purchases are not accumulated in a range, rather varies in different intervals"
   ]
  },
  {
   "cell_type": "code",
   "execution_count": 39,
   "id": "2425e91a",
   "metadata": {},
   "outputs": [
    {
     "name": "stdout",
     "output_type": "stream",
     "text": [
      "<class 'pandas.core.frame.DataFrame'>\n",
      "RangeIndex: 80582 entries, 0 to 80581\n",
      "Data columns (total 12 columns):\n",
      " #   Column                      Non-Null Count  Dtype  \n",
      "---  ------                      --------------  -----  \n",
      " 0   User_ID                     80582 non-null  int64  \n",
      " 1   Product_ID                  80582 non-null  object \n",
      " 2   Gender                      80582 non-null  object \n",
      " 3   Age                         80582 non-null  object \n",
      " 4   Occupation                  80582 non-null  float64\n",
      " 5   City_Category               80582 non-null  object \n",
      " 6   Stay_In_Current_City_Years  80582 non-null  int32  \n",
      " 7   Marital_Status              80582 non-null  float64\n",
      " 8   Product_Category_1          80582 non-null  float64\n",
      " 9   Product_Category_2          80582 non-null  float64\n",
      " 10  Product_Category_3          80582 non-null  float64\n",
      " 11  Purchase                    80582 non-null  float64\n",
      "dtypes: float64(6), int32(1), int64(1), object(4)\n",
      "memory usage: 7.1+ MB\n"
     ]
    }
   ],
   "source": [
    "data.info()"
   ]
  },
  {
   "cell_type": "code",
   "execution_count": 40,
   "id": "6f44ffde",
   "metadata": {
    "scrolled": true
   },
   "outputs": [
    {
     "name": "stdout",
     "output_type": "stream",
     "text": [
      "User_ID [1000001 1000002 1000003 ... 1006038 1006039 1006040]\n",
      "Product_ID ['P00000142' 'P00000242' 'P00000642' 'P00001042' 'P00001142' 'P00001542'\n",
      " 'P00002142' 'P00002242' 'P00003442' 'P00004242' 'P00004842' 'P00005542'\n",
      " 'P00005942' 'P00006942' 'P00008042' 'P00010542' 'P00010742' 'P00010942'\n",
      " 'P00011942' 'P00012242' 'P00014442' 'P00014642' 'P00014842' 'P00015542'\n",
      " 'P00015642' 'P00015842' 'P00015942' 'P00016342' 'P00016442' 'P00016542'\n",
      " 'P00016742' 'P00016842' 'P00019042' 'P00019342' 'P00021842' 'P00023342'\n",
      " 'P00024142' 'P00025242' 'P00025342' 'P00025442' 'P00026042' 'P00028442'\n",
      " 'P00028542' 'P00029542' 'P00030842' 'P00030942' 'P00031842' 'P00032042'\n",
      " 'P00034042' 'P00034142' 'P00034242' 'P00034442' 'P00034742' 'P00035042'\n",
      " 'P00035342' 'P00035542' 'P00035842' 'P00035942' 'P00036842' 'P00037142'\n",
      " 'P00038042' 'P00038142' 'P00041342' 'P00041442' 'P00042142' 'P00043842'\n",
      " 'P00044242' 'P00045042' 'P00045142' 'P00045242' 'P00045342' 'P00046742'\n",
      " 'P00048042' 'P00048342' 'P00050042' 'P00050342' 'P00050442' 'P00051942'\n",
      " 'P00053042' 'P00053342' 'P00053442' 'P00053842' 'P00053942' 'P00054242'\n",
      " 'P00054542' 'P00057442' 'P00057542' 'P00057642' 'P00057742' 'P00057942'\n",
      " 'P00058142' 'P00058242' 'P00059442' 'P00059642' 'P00059742' 'P00061342'\n",
      " 'P00062842' 'P00063342' 'P00064042' 'P00065242' 'P00066242' 'P00066542'\n",
      " 'P00067842' 'P00070042' 'P00070342' 'P00070942' 'P00071242' 'P00073842'\n",
      " 'P00074142' 'P00074642' 'P00075342' 'P00076542' 'P00076942' 'P00078542'\n",
      " 'P00078742' 'P00079742' 'P00080342' 'P00081142' 'P00082742' 'P00083342'\n",
      " 'P00084742' 'P00085142' 'P00085242' 'P00085942' 'P00086042' 'P00086442'\n",
      " 'P00087042' 'P00087142' 'P00087342' 'P00088242' 'P00088542' 'P00088642'\n",
      " 'P00090942' 'P00092842' 'P00093342' 'P00100442' 'P00102342' 'P00102642'\n",
      " 'P00105142' 'P00105342' 'P00107042' 'P00107142' 'P00108542' 'P00109242'\n",
      " 'P00109542' 'P00110742' 'P00110842' 'P00111142' 'P00111642' 'P00112142'\n",
      " 'P00112242' 'P00112542' 'P00112642' 'P00113142' 'P00113242' 'P00113342'\n",
      " 'P00113842' 'P00114342' 'P00114942' 'P00115142' 'P00115342' 'P00115742'\n",
      " 'P00116142' 'P00116842' 'P00116942' 'P00117042' 'P00117342' 'P00117842'\n",
      " 'P00118342' 'P00118642' 'P00119142' 'P00119642' 'P00119742' 'P00120742'\n",
      " 'P00121342' 'P00122442' 'P00125942' 'P00126242' 'P00127342' 'P00127442'\n",
      " 'P00127542' 'P00127642' 'P00127742' 'P00127842' 'P00127942' 'P00128042'\n",
      " 'P00128142' 'P00128242' 'P00128342' 'P00129342' 'P00129842' 'P00130742'\n",
      " 'P00131442' 'P00135242' 'P00136242' 'P00136742' 'P00136842' 'P00137542'\n",
      " 'P00137642' 'P00138042' 'P00138442' 'P00140442' 'P00140542' 'P00141942'\n",
      " 'P00142142' 'P00142842' 'P00142942' 'P00143342' 'P00143642' 'P00144042'\n",
      " 'P00144642' 'P00145042' 'P00145642' 'P00145942' 'P00146042' 'P00146142'\n",
      " 'P00146542' 'P00146742' 'P00146842' 'P00147142' 'P00148542' 'P00148642'\n",
      " 'P00148842' 'P00149442' 'P00149542' 'P00150842' 'P00150942' 'P00151242'\n",
      " 'P00151742' 'P00151842' 'P00153842' 'P00154042' 'P00154742' 'P00155242'\n",
      " 'P00155442' 'P00156242' 'P00156742' 'P00157442' 'P00157642' 'P00158542'\n",
      " 'P00159242' 'P00159542' 'P00159742' 'P00160042' 'P00160642' 'P00161242'\n",
      " 'P00161542' 'P00161842' 'P00163242' 'P00163442' 'P00163542' 'P00163742'\n",
      " 'P00164042' 'P00164442' 'P00165442' 'P00165642' 'P00166942' 'P00169742'\n",
      " 'P00170242' 'P00170942' 'P00171542' 'P00171642' 'P00173042' 'P00173142'\n",
      " 'P00173342' 'P00173742' 'P00173842' 'P00173942' 'P00174142' 'P00174642'\n",
      " 'P00176542' 'P00177442' 'P00178842' 'P00182142' 'P00182242' 'P00182342'\n",
      " 'P00182642' 'P00182742' 'P00182942' 'P00183342' 'P00183642' 'P00183742'\n",
      " 'P00183842' 'P00184442' 'P00184942' 'P00185742' 'P00185842' 'P00186142'\n",
      " 'P00186342' 'P00186542' 'P00186642' 'P00187042' 'P00187142' 'P00187342'\n",
      " 'P00187442' 'P00188542' 'P00188742' 'P00189842' 'P00190042' 'P00190142'\n",
      " 'P00190742' 'P00190842' 'P00191242' 'P00191342' 'P00191442' 'P00191642'\n",
      " 'P00191942' 'P00192042' 'P00192242' 'P00192542' 'P00193042' 'P00193642'\n",
      " 'P00194642' 'P00195042' 'P00195842' 'P00196042' 'P00196142' 'P00196242'\n",
      " 'P00196342' 'P00196542' 'P00198142' 'P00198242' 'P00198742' 'P00199142'\n",
      " 'P00199342' 'P00200242' 'P00201342' 'P00201442' 'P00202142' 'P00202742'\n",
      " 'P00205442' 'P00205942' 'P00206442' 'P00207342' 'P00208442' 'P00208742'\n",
      " 'P00209642' 'P00209742' 'P00213042' 'P00214642' 'P00215242' 'P00216242'\n",
      " 'P00216342' 'P00217442' 'P00217542' 'P00217642' 'P00217842' 'P00219742'\n",
      " 'P00220742' 'P00221342' 'P00221442' 'P00222242' 'P00222942' 'P00223042'\n",
      " 'P00223442' 'P00223542' 'P00223742' 'P00223842' 'P00225842' 'P00227642'\n",
      " 'P00228342' 'P00229142' 'P00229642' 'P00231342' 'P00233142' 'P00233342'\n",
      " 'P00233442' 'P00234642' 'P00234842' 'P00235842' 'P00235942' 'P00237542'\n",
      " 'P00239042' 'P00239242' 'P00239742' 'P00240242' 'P00241242' 'P00241342'\n",
      " 'P00241642' 'P00242542' 'P00242742' 'P00243042' 'P00243942' 'P00244042'\n",
      " 'P00244142' 'P00244242' 'P00245642' 'P00246142' 'P00247142' 'P00247442'\n",
      " 'P00247942' 'P00248942' 'P00249442' 'P00249542' 'P00249742' 'P00251642'\n",
      " 'P00251842' 'P00251942' 'P00253142' 'P00254242' 'P00256042' 'P00259842'\n",
      " 'P00262242' 'P00264542' 'P00266642' 'P00266742' 'P00266942' 'P00267342'\n",
      " 'P00267442' 'P00269342' 'P00270542' 'P00270942' 'P00273442' 'P00274342'\n",
      " 'P00274842' 'P00275842' 'P00277442' 'P00277542' 'P00277642' 'P00278942'\n",
      " 'P00281742' 'P00282242' 'P00282442' 'P00283142' 'P00284842' 'P00285642'\n",
      " 'P00288942' 'P00289342' 'P00289942' 'P00290242' 'P00290742' 'P00293842'\n",
      " 'P00294142' 'P00294442' 'P00295942' 'P00296042' 'P00296842' 'P00298042'\n",
      " 'P00303442' 'P00303842' 'P00304342' 'P00304642' 'P00305042' 'P00308242'\n",
      " 'P00310842' 'P00311742' 'P00313442' 'P00313842' 'P00317642' 'P00318642'\n",
      " 'P00320742' 'P00320842' 'P00320942' 'P00321242' 'P00321742' 'P00322942'\n",
      " 'P00324442' 'P00324742' 'P00328942' 'P00329542' 'P00329942' 'P00330342'\n",
      " 'P00334042' 'P00334642' 'P00337242' 'P00337342' 'P00338942' 'P00339842'\n",
      " 'P00340342' 'P00341342' 'P00341942' 'P00342042' 'P00342142' 'P00342242'\n",
      " 'P00342342' 'P00342442' 'P00342542' 'P00344442' 'P00345542' 'P00345642'\n",
      " 'P00345742' 'P00345842' 'P00346042' 'P00346442' 'P00346542' 'P00350442'\n",
      " 'P00350942' 'P00351142' 'P00351242' 'P00351342' 'P00351642' 'P00351742'\n",
      " 'P00352142' 'P00352242' 'P00352842' 'P00353342' 'P00353442' 'P00356342'\n",
      " 'P00358342' 'P00358642' 'P00359042' 'P00359242' 'P00361942' 'P00363242'\n",
      " 'P00364442' 'P00369942' 'P00370042' 'P0094342' 'P0094542' 'P0094742'\n",
      " 'P0095042' 'P0095442' 'P0095542' 'P0095842' 'P0096042' 'P0096442'\n",
      " 'P0096542' 'P0096642' 'P0096742' 'P0096842' 'P0097342' 'P0099042'\n",
      " 'P0099742' 'P0099842' 'P0099942']\n",
      "Gender ['F' 'M']\n",
      "Age ['0-17' '18-25' '26-35' '36-45' '46-50' '51-55' '55+']\n",
      "City_Category ['A' 'B' 'C']\n"
     ]
    }
   ],
   "source": [
    "#label encoding to convert categorical to numerical columns\n",
    "from sklearn.preprocessing import LabelEncoder\n",
    "le = LabelEncoder()\n",
    "\n",
    "col_list = ['User_ID', \"Product_ID\", \"Gender\",'Age', 'City_Category']\n",
    "\n",
    "for col in col_list:\n",
    "    data[col] = le.fit_transform(data[col])\n",
    "    print(col, le.classes_)"
   ]
  },
  {
   "cell_type": "code",
   "execution_count": 41,
   "id": "d8139b6d",
   "metadata": {},
   "outputs": [
    {
     "data": {
      "text/html": [
       "<div>\n",
       "<style scoped>\n",
       "    .dataframe tbody tr th:only-of-type {\n",
       "        vertical-align: middle;\n",
       "    }\n",
       "\n",
       "    .dataframe tbody tr th {\n",
       "        vertical-align: top;\n",
       "    }\n",
       "\n",
       "    .dataframe thead th {\n",
       "        text-align: right;\n",
       "    }\n",
       "</style>\n",
       "<table border=\"1\" class=\"dataframe\">\n",
       "  <thead>\n",
       "    <tr style=\"text-align: right;\">\n",
       "      <th></th>\n",
       "      <th>User_ID</th>\n",
       "      <th>Product_ID</th>\n",
       "      <th>Gender</th>\n",
       "      <th>Age</th>\n",
       "      <th>Occupation</th>\n",
       "      <th>City_Category</th>\n",
       "      <th>Stay_In_Current_City_Years</th>\n",
       "      <th>Marital_Status</th>\n",
       "      <th>Product_Category_1</th>\n",
       "      <th>Product_Category_2</th>\n",
       "      <th>Product_Category_3</th>\n",
       "      <th>Purchase</th>\n",
       "    </tr>\n",
       "  </thead>\n",
       "  <tbody>\n",
       "    <tr>\n",
       "      <th>0</th>\n",
       "      <td>0</td>\n",
       "      <td>391</td>\n",
       "      <td>0</td>\n",
       "      <td>0</td>\n",
       "      <td>10.0</td>\n",
       "      <td>0</td>\n",
       "      <td>2</td>\n",
       "      <td>0.0</td>\n",
       "      <td>1.0</td>\n",
       "      <td>6.0</td>\n",
       "      <td>14.0</td>\n",
       "      <td>15200.0</td>\n",
       "    </tr>\n",
       "    <tr>\n",
       "      <th>1</th>\n",
       "      <td>3</td>\n",
       "      <td>284</td>\n",
       "      <td>1</td>\n",
       "      <td>4</td>\n",
       "      <td>7.0</td>\n",
       "      <td>1</td>\n",
       "      <td>2</td>\n",
       "      <td>1.0</td>\n",
       "      <td>1.0</td>\n",
       "      <td>8.0</td>\n",
       "      <td>17.0</td>\n",
       "      <td>19215.0</td>\n",
       "    </tr>\n",
       "    <tr>\n",
       "      <th>2</th>\n",
       "      <td>4</td>\n",
       "      <td>211</td>\n",
       "      <td>1</td>\n",
       "      <td>2</td>\n",
       "      <td>20.0</td>\n",
       "      <td>0</td>\n",
       "      <td>1</td>\n",
       "      <td>1.0</td>\n",
       "      <td>1.0</td>\n",
       "      <td>2.0</td>\n",
       "      <td>5.0</td>\n",
       "      <td>15665.0</td>\n",
       "    </tr>\n",
       "    <tr>\n",
       "      <th>3</th>\n",
       "      <td>5</td>\n",
       "      <td>363</td>\n",
       "      <td>0</td>\n",
       "      <td>5</td>\n",
       "      <td>9.0</td>\n",
       "      <td>0</td>\n",
       "      <td>1</td>\n",
       "      <td>0.0</td>\n",
       "      <td>5.0</td>\n",
       "      <td>8.0</td>\n",
       "      <td>14.0</td>\n",
       "      <td>5378.0</td>\n",
       "    </tr>\n",
       "    <tr>\n",
       "      <th>4</th>\n",
       "      <td>5</td>\n",
       "      <td>517</td>\n",
       "      <td>0</td>\n",
       "      <td>5</td>\n",
       "      <td>9.0</td>\n",
       "      <td>0</td>\n",
       "      <td>1</td>\n",
       "      <td>0.0</td>\n",
       "      <td>2.0</td>\n",
       "      <td>3.0</td>\n",
       "      <td>4.0</td>\n",
       "      <td>13055.0</td>\n",
       "    </tr>\n",
       "  </tbody>\n",
       "</table>\n",
       "</div>"
      ],
      "text/plain": [
       "   User_ID  Product_ID  Gender  Age  Occupation  City_Category  \\\n",
       "0        0         391       0    0        10.0              0   \n",
       "1        3         284       1    4         7.0              1   \n",
       "2        4         211       1    2        20.0              0   \n",
       "3        5         363       0    5         9.0              0   \n",
       "4        5         517       0    5         9.0              0   \n",
       "\n",
       "   Stay_In_Current_City_Years  Marital_Status  Product_Category_1  \\\n",
       "0                           2             0.0                 1.0   \n",
       "1                           2             1.0                 1.0   \n",
       "2                           1             1.0                 1.0   \n",
       "3                           1             0.0                 5.0   \n",
       "4                           1             0.0                 2.0   \n",
       "\n",
       "   Product_Category_2  Product_Category_3  Purchase  \n",
       "0                 6.0                14.0   15200.0  \n",
       "1                 8.0                17.0   19215.0  \n",
       "2                 2.0                 5.0   15665.0  \n",
       "3                 8.0                14.0    5378.0  \n",
       "4                 3.0                 4.0   13055.0  "
      ]
     },
     "execution_count": 41,
     "metadata": {},
     "output_type": "execute_result"
    }
   ],
   "source": [
    "data.head()"
   ]
  },
  {
   "cell_type": "code",
   "execution_count": 42,
   "id": "9c1734c3",
   "metadata": {},
   "outputs": [
    {
     "data": {
      "text/html": [
       "<div>\n",
       "<style scoped>\n",
       "    .dataframe tbody tr th:only-of-type {\n",
       "        vertical-align: middle;\n",
       "    }\n",
       "\n",
       "    .dataframe tbody tr th {\n",
       "        vertical-align: top;\n",
       "    }\n",
       "\n",
       "    .dataframe thead th {\n",
       "        text-align: right;\n",
       "    }\n",
       "</style>\n",
       "<table border=\"1\" class=\"dataframe\">\n",
       "  <thead>\n",
       "    <tr style=\"text-align: right;\">\n",
       "      <th></th>\n",
       "      <th>User_ID</th>\n",
       "      <th>Product_ID</th>\n",
       "      <th>Gender</th>\n",
       "      <th>Age</th>\n",
       "      <th>Occupation</th>\n",
       "      <th>City_Category</th>\n",
       "      <th>Stay_In_Current_City_Years</th>\n",
       "      <th>Marital_Status</th>\n",
       "      <th>Product_Category_1</th>\n",
       "      <th>Product_Category_2</th>\n",
       "      <th>Product_Category_3</th>\n",
       "      <th>Purchase</th>\n",
       "    </tr>\n",
       "  </thead>\n",
       "  <tbody>\n",
       "    <tr>\n",
       "      <th>User_ID</th>\n",
       "      <td>1.000000</td>\n",
       "      <td>-0.008247</td>\n",
       "      <td>-0.031117</td>\n",
       "      <td>0.037451</td>\n",
       "      <td>-0.011876</td>\n",
       "      <td>0.019336</td>\n",
       "      <td>-0.027410</td>\n",
       "      <td>0.015240</td>\n",
       "      <td>0.007023</td>\n",
       "      <td>0.007372</td>\n",
       "      <td>0.002163</td>\n",
       "      <td>0.000603</td>\n",
       "    </tr>\n",
       "    <tr>\n",
       "      <th>Product_ID</th>\n",
       "      <td>-0.008247</td>\n",
       "      <td>1.000000</td>\n",
       "      <td>0.014412</td>\n",
       "      <td>0.021192</td>\n",
       "      <td>0.007119</td>\n",
       "      <td>-0.025223</td>\n",
       "      <td>-0.003153</td>\n",
       "      <td>0.010618</td>\n",
       "      <td>0.019471</td>\n",
       "      <td>0.024563</td>\n",
       "      <td>0.019219</td>\n",
       "      <td>-0.108025</td>\n",
       "    </tr>\n",
       "    <tr>\n",
       "      <th>Gender</th>\n",
       "      <td>-0.031117</td>\n",
       "      <td>0.014412</td>\n",
       "      <td>1.000000</td>\n",
       "      <td>-0.008751</td>\n",
       "      <td>0.110055</td>\n",
       "      <td>-0.002937</td>\n",
       "      <td>0.012817</td>\n",
       "      <td>-0.010459</td>\n",
       "      <td>-0.069258</td>\n",
       "      <td>-0.016422</td>\n",
       "      <td>0.033820</td>\n",
       "      <td>0.060034</td>\n",
       "    </tr>\n",
       "    <tr>\n",
       "      <th>Age</th>\n",
       "      <td>0.037451</td>\n",
       "      <td>0.021192</td>\n",
       "      <td>-0.008751</td>\n",
       "      <td>1.000000</td>\n",
       "      <td>0.100146</td>\n",
       "      <td>0.098402</td>\n",
       "      <td>-0.010013</td>\n",
       "      <td>0.311430</td>\n",
       "      <td>0.052910</td>\n",
       "      <td>0.047808</td>\n",
       "      <td>0.054444</td>\n",
       "      <td>0.023078</td>\n",
       "    </tr>\n",
       "    <tr>\n",
       "      <th>Occupation</th>\n",
       "      <td>-0.011876</td>\n",
       "      <td>0.007119</td>\n",
       "      <td>0.110055</td>\n",
       "      <td>0.100146</td>\n",
       "      <td>1.000000</td>\n",
       "      <td>0.038839</td>\n",
       "      <td>0.025064</td>\n",
       "      <td>0.031437</td>\n",
       "      <td>-0.013515</td>\n",
       "      <td>0.000714</td>\n",
       "      <td>0.013637</td>\n",
       "      <td>0.022187</td>\n",
       "    </tr>\n",
       "    <tr>\n",
       "      <th>City_Category</th>\n",
       "      <td>0.019336</td>\n",
       "      <td>-0.025223</td>\n",
       "      <td>-0.002937</td>\n",
       "      <td>0.098402</td>\n",
       "      <td>0.038839</td>\n",
       "      <td>1.000000</td>\n",
       "      <td>0.015376</td>\n",
       "      <td>0.043686</td>\n",
       "      <td>-0.020706</td>\n",
       "      <td>-0.004918</td>\n",
       "      <td>-0.000876</td>\n",
       "      <td>0.076327</td>\n",
       "    </tr>\n",
       "    <tr>\n",
       "      <th>Stay_In_Current_City_Years</th>\n",
       "      <td>-0.027410</td>\n",
       "      <td>-0.003153</td>\n",
       "      <td>0.012817</td>\n",
       "      <td>-0.010013</td>\n",
       "      <td>0.025064</td>\n",
       "      <td>0.015376</td>\n",
       "      <td>1.000000</td>\n",
       "      <td>-0.015000</td>\n",
       "      <td>-0.006038</td>\n",
       "      <td>-0.000815</td>\n",
       "      <td>0.000347</td>\n",
       "      <td>0.003687</td>\n",
       "    </tr>\n",
       "    <tr>\n",
       "      <th>Marital_Status</th>\n",
       "      <td>0.015240</td>\n",
       "      <td>0.010618</td>\n",
       "      <td>-0.010459</td>\n",
       "      <td>0.311430</td>\n",
       "      <td>0.031437</td>\n",
       "      <td>0.043686</td>\n",
       "      <td>-0.015000</td>\n",
       "      <td>1.000000</td>\n",
       "      <td>0.016434</td>\n",
       "      <td>0.011027</td>\n",
       "      <td>0.016609</td>\n",
       "      <td>0.008585</td>\n",
       "    </tr>\n",
       "    <tr>\n",
       "      <th>Product_Category_1</th>\n",
       "      <td>0.007023</td>\n",
       "      <td>0.019471</td>\n",
       "      <td>-0.069258</td>\n",
       "      <td>0.052910</td>\n",
       "      <td>-0.013515</td>\n",
       "      <td>-0.020706</td>\n",
       "      <td>-0.006038</td>\n",
       "      <td>0.016434</td>\n",
       "      <td>1.000000</td>\n",
       "      <td>0.496955</td>\n",
       "      <td>0.229194</td>\n",
       "      <td>-0.399093</td>\n",
       "    </tr>\n",
       "    <tr>\n",
       "      <th>Product_Category_2</th>\n",
       "      <td>0.007372</td>\n",
       "      <td>0.024563</td>\n",
       "      <td>-0.016422</td>\n",
       "      <td>0.047808</td>\n",
       "      <td>0.000714</td>\n",
       "      <td>-0.004918</td>\n",
       "      <td>-0.000815</td>\n",
       "      <td>0.011027</td>\n",
       "      <td>0.496955</td>\n",
       "      <td>1.000000</td>\n",
       "      <td>0.545300</td>\n",
       "      <td>-0.152532</td>\n",
       "    </tr>\n",
       "    <tr>\n",
       "      <th>Product_Category_3</th>\n",
       "      <td>0.002163</td>\n",
       "      <td>0.019219</td>\n",
       "      <td>0.033820</td>\n",
       "      <td>0.054444</td>\n",
       "      <td>0.013637</td>\n",
       "      <td>-0.000876</td>\n",
       "      <td>0.000347</td>\n",
       "      <td>0.016609</td>\n",
       "      <td>0.229194</td>\n",
       "      <td>0.545300</td>\n",
       "      <td>1.000000</td>\n",
       "      <td>-0.024676</td>\n",
       "    </tr>\n",
       "    <tr>\n",
       "      <th>Purchase</th>\n",
       "      <td>0.000603</td>\n",
       "      <td>-0.108025</td>\n",
       "      <td>0.060034</td>\n",
       "      <td>0.023078</td>\n",
       "      <td>0.022187</td>\n",
       "      <td>0.076327</td>\n",
       "      <td>0.003687</td>\n",
       "      <td>0.008585</td>\n",
       "      <td>-0.399093</td>\n",
       "      <td>-0.152532</td>\n",
       "      <td>-0.024676</td>\n",
       "      <td>1.000000</td>\n",
       "    </tr>\n",
       "  </tbody>\n",
       "</table>\n",
       "</div>"
      ],
      "text/plain": [
       "                             User_ID  Product_ID    Gender       Age  \\\n",
       "User_ID                     1.000000   -0.008247 -0.031117  0.037451   \n",
       "Product_ID                 -0.008247    1.000000  0.014412  0.021192   \n",
       "Gender                     -0.031117    0.014412  1.000000 -0.008751   \n",
       "Age                         0.037451    0.021192 -0.008751  1.000000   \n",
       "Occupation                 -0.011876    0.007119  0.110055  0.100146   \n",
       "City_Category               0.019336   -0.025223 -0.002937  0.098402   \n",
       "Stay_In_Current_City_Years -0.027410   -0.003153  0.012817 -0.010013   \n",
       "Marital_Status              0.015240    0.010618 -0.010459  0.311430   \n",
       "Product_Category_1          0.007023    0.019471 -0.069258  0.052910   \n",
       "Product_Category_2          0.007372    0.024563 -0.016422  0.047808   \n",
       "Product_Category_3          0.002163    0.019219  0.033820  0.054444   \n",
       "Purchase                    0.000603   -0.108025  0.060034  0.023078   \n",
       "\n",
       "                            Occupation  City_Category  \\\n",
       "User_ID                      -0.011876       0.019336   \n",
       "Product_ID                    0.007119      -0.025223   \n",
       "Gender                        0.110055      -0.002937   \n",
       "Age                           0.100146       0.098402   \n",
       "Occupation                    1.000000       0.038839   \n",
       "City_Category                 0.038839       1.000000   \n",
       "Stay_In_Current_City_Years    0.025064       0.015376   \n",
       "Marital_Status                0.031437       0.043686   \n",
       "Product_Category_1           -0.013515      -0.020706   \n",
       "Product_Category_2            0.000714      -0.004918   \n",
       "Product_Category_3            0.013637      -0.000876   \n",
       "Purchase                      0.022187       0.076327   \n",
       "\n",
       "                            Stay_In_Current_City_Years  Marital_Status  \\\n",
       "User_ID                                      -0.027410        0.015240   \n",
       "Product_ID                                   -0.003153        0.010618   \n",
       "Gender                                        0.012817       -0.010459   \n",
       "Age                                          -0.010013        0.311430   \n",
       "Occupation                                    0.025064        0.031437   \n",
       "City_Category                                 0.015376        0.043686   \n",
       "Stay_In_Current_City_Years                    1.000000       -0.015000   \n",
       "Marital_Status                               -0.015000        1.000000   \n",
       "Product_Category_1                           -0.006038        0.016434   \n",
       "Product_Category_2                           -0.000815        0.011027   \n",
       "Product_Category_3                            0.000347        0.016609   \n",
       "Purchase                                      0.003687        0.008585   \n",
       "\n",
       "                            Product_Category_1  Product_Category_2  \\\n",
       "User_ID                               0.007023            0.007372   \n",
       "Product_ID                            0.019471            0.024563   \n",
       "Gender                               -0.069258           -0.016422   \n",
       "Age                                   0.052910            0.047808   \n",
       "Occupation                           -0.013515            0.000714   \n",
       "City_Category                        -0.020706           -0.004918   \n",
       "Stay_In_Current_City_Years           -0.006038           -0.000815   \n",
       "Marital_Status                        0.016434            0.011027   \n",
       "Product_Category_1                    1.000000            0.496955   \n",
       "Product_Category_2                    0.496955            1.000000   \n",
       "Product_Category_3                    0.229194            0.545300   \n",
       "Purchase                             -0.399093           -0.152532   \n",
       "\n",
       "                            Product_Category_3  Purchase  \n",
       "User_ID                               0.002163  0.000603  \n",
       "Product_ID                            0.019219 -0.108025  \n",
       "Gender                                0.033820  0.060034  \n",
       "Age                                   0.054444  0.023078  \n",
       "Occupation                            0.013637  0.022187  \n",
       "City_Category                        -0.000876  0.076327  \n",
       "Stay_In_Current_City_Years            0.000347  0.003687  \n",
       "Marital_Status                        0.016609  0.008585  \n",
       "Product_Category_1                    0.229194 -0.399093  \n",
       "Product_Category_2                    0.545300 -0.152532  \n",
       "Product_Category_3                    1.000000 -0.024676  \n",
       "Purchase                             -0.024676  1.000000  "
      ]
     },
     "execution_count": 42,
     "metadata": {},
     "output_type": "execute_result"
    }
   ],
   "source": [
    "## Correlations\n",
    "\n",
    "data.corr()"
   ]
  },
  {
   "cell_type": "code",
   "execution_count": 43,
   "id": "0e07c4cf",
   "metadata": {},
   "outputs": [
    {
     "data": {
      "text/plain": [
       "<AxesSubplot:>"
      ]
     },
     "execution_count": 43,
     "metadata": {},
     "output_type": "execute_result"
    },
    {
     "data": {
      "image/png": "[encoded data removed]",
      "text/plain": [
       "<Figure size 1080x360 with 2 Axes>"
      ]
     },
     "metadata": {
      "needs_background": "light"
     },
     "output_type": "display_data"
    }
   ],
   "source": [
    "plt.figure(figsize=(15,5))\n",
    "sns.heatmap(data.corr(), annot=True)"
   ]
  },
  {
   "cell_type": "markdown",
   "id": "a735c09c",
   "metadata": {},
   "source": [
    "## Statistical Analysis"
   ]
  },
  {
   "cell_type": "markdown",
   "id": "fe3657bc",
   "metadata": {},
   "source": [
    "It was observed that the average purchase made by the Men of the age 18-25\n",
    "was 10000. Is it still the same?\n"
   ]
  },
  {
   "cell_type": "code",
   "execution_count": null,
   "id": "e5323301",
   "metadata": {},
   "outputs": [],
   "source": [
    "#NUll hypothesis  - The mean is 10000\n",
    "#Alternate hypothesis - The mean is not 10000"
   ]
  },
  {
   "cell_type": "code",
   "execution_count": null,
   "id": "181095a7",
   "metadata": {},
   "outputs": [],
   "source": [
    "#One sample Z-test = is used to test whether or not the mean of a population is equal to some value.\n",
    "#is used to compare the means of two groups."
   ]
  },
  {
   "cell_type": "code",
   "execution_count": 44,
   "id": "74acb39d",
   "metadata": {},
   "outputs": [
    {
     "data": {
      "text/html": [
       "<div>\n",
       "<style scoped>\n",
       "    .dataframe tbody tr th:only-of-type {\n",
       "        vertical-align: middle;\n",
       "    }\n",
       "\n",
       "    .dataframe tbody tr th {\n",
       "        vertical-align: top;\n",
       "    }\n",
       "\n",
       "    .dataframe thead th {\n",
       "        text-align: right;\n",
       "    }\n",
       "</style>\n",
       "<table border=\"1\" class=\"dataframe\">\n",
       "  <thead>\n",
       "    <tr style=\"text-align: right;\">\n",
       "      <th></th>\n",
       "      <th>User_ID</th>\n",
       "      <th>Product_ID</th>\n",
       "      <th>Gender</th>\n",
       "      <th>Age</th>\n",
       "      <th>Occupation</th>\n",
       "      <th>City_Category</th>\n",
       "      <th>Stay_In_Current_City_Years</th>\n",
       "      <th>Marital_Status</th>\n",
       "      <th>Product_Category_1</th>\n",
       "      <th>Product_Category_2</th>\n",
       "      <th>Product_Category_3</th>\n",
       "      <th>Purchase</th>\n",
       "    </tr>\n",
       "  </thead>\n",
       "  <tbody>\n",
       "    <tr>\n",
       "      <th>37</th>\n",
       "      <td>20</td>\n",
       "      <td>487</td>\n",
       "      <td>1</td>\n",
       "      <td>1</td>\n",
       "      <td>15.0</td>\n",
       "      <td>0</td>\n",
       "      <td>4</td>\n",
       "      <td>0.0</td>\n",
       "      <td>1.0</td>\n",
       "      <td>8.0</td>\n",
       "      <td>17.0</td>\n",
       "      <td>12099.0</td>\n",
       "    </tr>\n",
       "    <tr>\n",
       "      <th>38</th>\n",
       "      <td>20</td>\n",
       "      <td>402</td>\n",
       "      <td>1</td>\n",
       "      <td>1</td>\n",
       "      <td>15.0</td>\n",
       "      <td>0</td>\n",
       "      <td>4</td>\n",
       "      <td>0.0</td>\n",
       "      <td>1.0</td>\n",
       "      <td>11.0</td>\n",
       "      <td>16.0</td>\n",
       "      <td>12098.0</td>\n",
       "    </tr>\n",
       "    <tr>\n",
       "      <th>39</th>\n",
       "      <td>20</td>\n",
       "      <td>358</td>\n",
       "      <td>1</td>\n",
       "      <td>1</td>\n",
       "      <td>15.0</td>\n",
       "      <td>0</td>\n",
       "      <td>4</td>\n",
       "      <td>0.0</td>\n",
       "      <td>2.0</td>\n",
       "      <td>4.0</td>\n",
       "      <td>15.0</td>\n",
       "      <td>9564.0</td>\n",
       "    </tr>\n",
       "    <tr>\n",
       "      <th>49</th>\n",
       "      <td>23</td>\n",
       "      <td>332</td>\n",
       "      <td>1</td>\n",
       "      <td>1</td>\n",
       "      <td>4.0</td>\n",
       "      <td>2</td>\n",
       "      <td>4</td>\n",
       "      <td>0.0</td>\n",
       "      <td>1.0</td>\n",
       "      <td>5.0</td>\n",
       "      <td>9.0</td>\n",
       "      <td>15361.0</td>\n",
       "    </tr>\n",
       "    <tr>\n",
       "      <th>50</th>\n",
       "      <td>23</td>\n",
       "      <td>71</td>\n",
       "      <td>1</td>\n",
       "      <td>1</td>\n",
       "      <td>4.0</td>\n",
       "      <td>2</td>\n",
       "      <td>4</td>\n",
       "      <td>0.0</td>\n",
       "      <td>1.0</td>\n",
       "      <td>2.0</td>\n",
       "      <td>15.0</td>\n",
       "      <td>15770.0</td>\n",
       "    </tr>\n",
       "    <tr>\n",
       "      <th>...</th>\n",
       "      <td>...</td>\n",
       "      <td>...</td>\n",
       "      <td>...</td>\n",
       "      <td>...</td>\n",
       "      <td>...</td>\n",
       "      <td>...</td>\n",
       "      <td>...</td>\n",
       "      <td>...</td>\n",
       "      <td>...</td>\n",
       "      <td>...</td>\n",
       "      <td>...</td>\n",
       "      <td>...</td>\n",
       "    </tr>\n",
       "    <tr>\n",
       "      <th>80491</th>\n",
       "      <td>4206</td>\n",
       "      <td>180</td>\n",
       "      <td>1</td>\n",
       "      <td>1</td>\n",
       "      <td>18.0</td>\n",
       "      <td>1</td>\n",
       "      <td>1</td>\n",
       "      <td>1.0</td>\n",
       "      <td>1.0</td>\n",
       "      <td>2.0</td>\n",
       "      <td>15.0</td>\n",
       "      <td>11512.0</td>\n",
       "    </tr>\n",
       "    <tr>\n",
       "      <th>80492</th>\n",
       "      <td>4206</td>\n",
       "      <td>394</td>\n",
       "      <td>1</td>\n",
       "      <td>1</td>\n",
       "      <td>18.0</td>\n",
       "      <td>1</td>\n",
       "      <td>1</td>\n",
       "      <td>1.0</td>\n",
       "      <td>1.0</td>\n",
       "      <td>15.0</td>\n",
       "      <td>18.0</td>\n",
       "      <td>11521.0</td>\n",
       "    </tr>\n",
       "    <tr>\n",
       "      <th>80493</th>\n",
       "      <td>4206</td>\n",
       "      <td>23</td>\n",
       "      <td>1</td>\n",
       "      <td>1</td>\n",
       "      <td>18.0</td>\n",
       "      <td>1</td>\n",
       "      <td>1</td>\n",
       "      <td>1.0</td>\n",
       "      <td>1.0</td>\n",
       "      <td>2.0</td>\n",
       "      <td>13.0</td>\n",
       "      <td>3988.0</td>\n",
       "    </tr>\n",
       "    <tr>\n",
       "      <th>80494</th>\n",
       "      <td>4206</td>\n",
       "      <td>75</td>\n",
       "      <td>1</td>\n",
       "      <td>1</td>\n",
       "      <td>18.0</td>\n",
       "      <td>1</td>\n",
       "      <td>1</td>\n",
       "      <td>1.0</td>\n",
       "      <td>5.0</td>\n",
       "      <td>8.0</td>\n",
       "      <td>17.0</td>\n",
       "      <td>5444.0</td>\n",
       "    </tr>\n",
       "    <tr>\n",
       "      <th>80564</th>\n",
       "      <td>4225</td>\n",
       "      <td>209</td>\n",
       "      <td>1</td>\n",
       "      <td>1</td>\n",
       "      <td>4.0</td>\n",
       "      <td>0</td>\n",
       "      <td>1</td>\n",
       "      <td>1.0</td>\n",
       "      <td>2.0</td>\n",
       "      <td>3.0</td>\n",
       "      <td>4.0</td>\n",
       "      <td>3240.0</td>\n",
       "    </tr>\n",
       "  </tbody>\n",
       "</table>\n",
       "<p>11904 rows × 12 columns</p>\n",
       "</div>"
      ],
      "text/plain": [
       "       User_ID  Product_ID  Gender  Age  Occupation  City_Category  \\\n",
       "37          20         487       1    1        15.0              0   \n",
       "38          20         402       1    1        15.0              0   \n",
       "39          20         358       1    1        15.0              0   \n",
       "49          23         332       1    1         4.0              2   \n",
       "50          23          71       1    1         4.0              2   \n",
       "...        ...         ...     ...  ...         ...            ...   \n",
       "80491     4206         180       1    1        18.0              1   \n",
       "80492     4206         394       1    1        18.0              1   \n",
       "80493     4206          23       1    1        18.0              1   \n",
       "80494     4206          75       1    1        18.0              1   \n",
       "80564     4225         209       1    1         4.0              0   \n",
       "\n",
       "       Stay_In_Current_City_Years  Marital_Status  Product_Category_1  \\\n",
       "37                              4             0.0                 1.0   \n",
       "38                              4             0.0                 1.0   \n",
       "39                              4             0.0                 2.0   \n",
       "49                              4             0.0                 1.0   \n",
       "50                              4             0.0                 1.0   \n",
       "...                           ...             ...                 ...   \n",
       "80491                           1             1.0                 1.0   \n",
       "80492                           1             1.0                 1.0   \n",
       "80493                           1             1.0                 1.0   \n",
       "80494                           1             1.0                 5.0   \n",
       "80564                           1             1.0                 2.0   \n",
       "\n",
       "       Product_Category_2  Product_Category_3  Purchase  \n",
       "37                    8.0                17.0   12099.0  \n",
       "38                   11.0                16.0   12098.0  \n",
       "39                    4.0                15.0    9564.0  \n",
       "49                    5.0                 9.0   15361.0  \n",
       "50                    2.0                15.0   15770.0  \n",
       "...                   ...                 ...       ...  \n",
       "80491                 2.0                15.0   11512.0  \n",
       "80492                15.0                18.0   11521.0  \n",
       "80493                 2.0                13.0    3988.0  \n",
       "80494                 8.0                17.0    5444.0  \n",
       "80564                 3.0                 4.0    3240.0  \n",
       "\n",
       "[11904 rows x 12 columns]"
      ]
     },
     "execution_count": 44,
     "metadata": {},
     "output_type": "execute_result"
    }
   ],
   "source": [
    "new_data = data.loc[(data[\"Age\"]==1) & data['Gender']==1] #Male and 18-25\n",
    "new_data"
   ]
  },
  {
   "cell_type": "code",
   "execution_count": 45,
   "id": "be3059bf",
   "metadata": {},
   "outputs": [
    {
     "data": {
      "text/plain": [
       "(11904, 12)"
      ]
     },
     "execution_count": 45,
     "metadata": {},
     "output_type": "execute_result"
    }
   ],
   "source": [
    "new_data.shape"
   ]
  },
  {
   "cell_type": "code",
   "execution_count": 79,
   "id": "dff24923",
   "metadata": {},
   "outputs": [
    {
     "data": {
      "text/html": [
       "<div>\n",
       "<style scoped>\n",
       "    .dataframe tbody tr th:only-of-type {\n",
       "        vertical-align: middle;\n",
       "    }\n",
       "\n",
       "    .dataframe tbody tr th {\n",
       "        vertical-align: top;\n",
       "    }\n",
       "\n",
       "    .dataframe thead th {\n",
       "        text-align: right;\n",
       "    }\n",
       "</style>\n",
       "<table border=\"1\" class=\"dataframe\">\n",
       "  <thead>\n",
       "    <tr style=\"text-align: right;\">\n",
       "      <th></th>\n",
       "      <th>User_ID</th>\n",
       "      <th>Product_ID</th>\n",
       "      <th>Gender</th>\n",
       "      <th>Age</th>\n",
       "      <th>Occupation</th>\n",
       "      <th>City_Category</th>\n",
       "      <th>Stay_In_Current_City_Years</th>\n",
       "      <th>Marital_Status</th>\n",
       "      <th>Product_Category_1</th>\n",
       "      <th>Product_Category_2</th>\n",
       "      <th>Product_Category_3</th>\n",
       "      <th>Purchase</th>\n",
       "    </tr>\n",
       "  </thead>\n",
       "  <tbody>\n",
       "    <tr>\n",
       "      <th>65438</th>\n",
       "      <td>2861</td>\n",
       "      <td>178</td>\n",
       "      <td>1</td>\n",
       "      <td>1</td>\n",
       "      <td>4.0</td>\n",
       "      <td>0</td>\n",
       "      <td>4</td>\n",
       "      <td>0.0</td>\n",
       "      <td>1.0</td>\n",
       "      <td>2.0</td>\n",
       "      <td>15.0</td>\n",
       "      <td>12074.0</td>\n",
       "    </tr>\n",
       "    <tr>\n",
       "      <th>20966</th>\n",
       "      <td>4273</td>\n",
       "      <td>225</td>\n",
       "      <td>1</td>\n",
       "      <td>1</td>\n",
       "      <td>3.0</td>\n",
       "      <td>2</td>\n",
       "      <td>2</td>\n",
       "      <td>1.0</td>\n",
       "      <td>11.0</td>\n",
       "      <td>13.0</td>\n",
       "      <td>16.0</td>\n",
       "      <td>1563.0</td>\n",
       "    </tr>\n",
       "    <tr>\n",
       "      <th>27908</th>\n",
       "      <td>1964</td>\n",
       "      <td>184</td>\n",
       "      <td>1</td>\n",
       "      <td>1</td>\n",
       "      <td>0.0</td>\n",
       "      <td>2</td>\n",
       "      <td>4</td>\n",
       "      <td>0.0</td>\n",
       "      <td>1.0</td>\n",
       "      <td>2.0</td>\n",
       "      <td>5.0</td>\n",
       "      <td>15752.0</td>\n",
       "    </tr>\n",
       "    <tr>\n",
       "      <th>18046</th>\n",
       "      <td>3008</td>\n",
       "      <td>151</td>\n",
       "      <td>1</td>\n",
       "      <td>1</td>\n",
       "      <td>7.0</td>\n",
       "      <td>2</td>\n",
       "      <td>2</td>\n",
       "      <td>1.0</td>\n",
       "      <td>1.0</td>\n",
       "      <td>11.0</td>\n",
       "      <td>15.0</td>\n",
       "      <td>19437.0</td>\n",
       "    </tr>\n",
       "    <tr>\n",
       "      <th>42255</th>\n",
       "      <td>3198</td>\n",
       "      <td>454</td>\n",
       "      <td>1</td>\n",
       "      <td>1</td>\n",
       "      <td>4.0</td>\n",
       "      <td>0</td>\n",
       "      <td>0</td>\n",
       "      <td>0.0</td>\n",
       "      <td>5.0</td>\n",
       "      <td>8.0</td>\n",
       "      <td>17.0</td>\n",
       "      <td>5250.0</td>\n",
       "    </tr>\n",
       "    <tr>\n",
       "      <th>...</th>\n",
       "      <td>...</td>\n",
       "      <td>...</td>\n",
       "      <td>...</td>\n",
       "      <td>...</td>\n",
       "      <td>...</td>\n",
       "      <td>...</td>\n",
       "      <td>...</td>\n",
       "      <td>...</td>\n",
       "      <td>...</td>\n",
       "      <td>...</td>\n",
       "      <td>...</td>\n",
       "      <td>...</td>\n",
       "    </tr>\n",
       "    <tr>\n",
       "      <th>30520</th>\n",
       "      <td>3315</td>\n",
       "      <td>487</td>\n",
       "      <td>1</td>\n",
       "      <td>1</td>\n",
       "      <td>4.0</td>\n",
       "      <td>0</td>\n",
       "      <td>0</td>\n",
       "      <td>0.0</td>\n",
       "      <td>1.0</td>\n",
       "      <td>8.0</td>\n",
       "      <td>17.0</td>\n",
       "      <td>11638.0</td>\n",
       "    </tr>\n",
       "    <tr>\n",
       "      <th>78086</th>\n",
       "      <td>3198</td>\n",
       "      <td>355</td>\n",
       "      <td>1</td>\n",
       "      <td>1</td>\n",
       "      <td>4.0</td>\n",
       "      <td>0</td>\n",
       "      <td>0</td>\n",
       "      <td>0.0</td>\n",
       "      <td>1.0</td>\n",
       "      <td>8.0</td>\n",
       "      <td>17.0</td>\n",
       "      <td>19009.0</td>\n",
       "    </tr>\n",
       "    <tr>\n",
       "      <th>24146</th>\n",
       "      <td>185</td>\n",
       "      <td>80</td>\n",
       "      <td>1</td>\n",
       "      <td>1</td>\n",
       "      <td>1.0</td>\n",
       "      <td>1</td>\n",
       "      <td>2</td>\n",
       "      <td>0.0</td>\n",
       "      <td>1.0</td>\n",
       "      <td>2.0</td>\n",
       "      <td>16.0</td>\n",
       "      <td>4345.0</td>\n",
       "    </tr>\n",
       "    <tr>\n",
       "      <th>588</th>\n",
       "      <td>290</td>\n",
       "      <td>294</td>\n",
       "      <td>1</td>\n",
       "      <td>1</td>\n",
       "      <td>4.0</td>\n",
       "      <td>1</td>\n",
       "      <td>4</td>\n",
       "      <td>0.0</td>\n",
       "      <td>2.0</td>\n",
       "      <td>4.0</td>\n",
       "      <td>5.0</td>\n",
       "      <td>9918.0</td>\n",
       "    </tr>\n",
       "    <tr>\n",
       "      <th>35228</th>\n",
       "      <td>5440</td>\n",
       "      <td>246</td>\n",
       "      <td>1</td>\n",
       "      <td>1</td>\n",
       "      <td>12.0</td>\n",
       "      <td>1</td>\n",
       "      <td>3</td>\n",
       "      <td>1.0</td>\n",
       "      <td>2.0</td>\n",
       "      <td>15.0</td>\n",
       "      <td>16.0</td>\n",
       "      <td>12979.0</td>\n",
       "    </tr>\n",
       "  </tbody>\n",
       "</table>\n",
       "<p>1000 rows × 12 columns</p>\n",
       "</div>"
      ],
      "text/plain": [
       "       User_ID  Product_ID  Gender  Age  Occupation  City_Category  \\\n",
       "65438     2861         178       1    1         4.0              0   \n",
       "20966     4273         225       1    1         3.0              2   \n",
       "27908     1964         184       1    1         0.0              2   \n",
       "18046     3008         151       1    1         7.0              2   \n",
       "42255     3198         454       1    1         4.0              0   \n",
       "...        ...         ...     ...  ...         ...            ...   \n",
       "30520     3315         487       1    1         4.0              0   \n",
       "78086     3198         355       1    1         4.0              0   \n",
       "24146      185          80       1    1         1.0              1   \n",
       "588        290         294       1    1         4.0              1   \n",
       "35228     5440         246       1    1        12.0              1   \n",
       "\n",
       "       Stay_In_Current_City_Years  Marital_Status  Product_Category_1  \\\n",
       "65438                           4             0.0                 1.0   \n",
       "20966                           2             1.0                11.0   \n",
       "27908                           4             0.0                 1.0   \n",
       "18046                           2             1.0                 1.0   \n",
       "42255                           0             0.0                 5.0   \n",
       "...                           ...             ...                 ...   \n",
       "30520                           0             0.0                 1.0   \n",
       "78086                           0             0.0                 1.0   \n",
       "24146                           2             0.0                 1.0   \n",
       "588                             4             0.0                 2.0   \n",
       "35228                           3             1.0                 2.0   \n",
       "\n",
       "       Product_Category_2  Product_Category_3  Purchase  \n",
       "65438                 2.0                15.0   12074.0  \n",
       "20966                13.0                16.0    1563.0  \n",
       "27908                 2.0                 5.0   15752.0  \n",
       "18046                11.0                15.0   19437.0  \n",
       "42255                 8.0                17.0    5250.0  \n",
       "...                   ...                 ...       ...  \n",
       "30520                 8.0                17.0   11638.0  \n",
       "78086                 8.0                17.0   19009.0  \n",
       "24146                 2.0                16.0    4345.0  \n",
       "588                   4.0                 5.0    9918.0  \n",
       "35228                15.0                16.0   12979.0  \n",
       "\n",
       "[1000 rows x 12 columns]"
      ]
     },
     "execution_count": 79,
     "metadata": {},
     "output_type": "execute_result"
    }
   ],
   "source": [
    "sample_size = 1000\n",
    "sample = new_data.sample(sample_size, random_state=28372831)\n",
    "sample"
   ]
  },
  {
   "cell_type": "code",
   "execution_count": 85,
   "id": "9f71b9af",
   "metadata": {},
   "outputs": [],
   "source": [
    "p_mean = 10000"
   ]
  },
  {
   "cell_type": "code",
   "execution_count": 80,
   "id": "b78149e6",
   "metadata": {},
   "outputs": [
    {
     "name": "stdout",
     "output_type": "stream",
     "text": [
      "11751.189\n"
     ]
    }
   ],
   "source": [
    "sample_mean = sample[\"Purchase\"].mean()\n",
    "print(sample_mean)"
   ]
  },
  {
   "cell_type": "code",
   "execution_count": 83,
   "id": "67cfddd6",
   "metadata": {},
   "outputs": [],
   "source": [
    "#one sample t test\n",
    "from scipy.stats import ttest_1samp"
   ]
  },
  {
   "cell_type": "code",
   "execution_count": 86,
   "id": "200a7936",
   "metadata": {},
   "outputs": [
    {
     "name": "stdout",
     "output_type": "stream",
     "text": [
      "10.850760062257608 5.224618210879186e-26\n"
     ]
    }
   ],
   "source": [
    "t_stat, p_value = ttest_1samp(sample['Purchase'], p_mean)\n",
    "print(t_stat, p_value)"
   ]
  },
  {
   "cell_type": "code",
   "execution_count": null,
   "id": "0541561c",
   "metadata": {},
   "outputs": [],
   "source": [
    "#p value is less than 0.05 , reject the null hypothesis.\n",
    "#Therefore, the mean purchase for men ages 18-25 is not 10000."
   ]
  },
  {
   "cell_type": "markdown",
   "id": "1aaee26e",
   "metadata": {},
   "source": [
    "It was observed that the percentage of women of the age that spend more than\n",
    "10000 was 35%. Is it still the same?"
   ]
  },
  {
   "cell_type": "code",
   "execution_count": null,
   "id": "077e6241",
   "metadata": {},
   "outputs": [],
   "source": [
    "#NUll hypothesis  - proportion is 35%\n",
    "#Alternate hypothesis - proportion is not 35%"
   ]
  },
  {
   "cell_type": "code",
   "execution_count": 87,
   "id": "deacd028",
   "metadata": {},
   "outputs": [],
   "source": [
    "data_new = data.loc[(data['Purchase']>10000)]"
   ]
  },
  {
   "cell_type": "code",
   "execution_count": 88,
   "id": "870766a0",
   "metadata": {},
   "outputs": [
    {
     "data": {
      "text/plain": [
       "(49390, 12)"
      ]
     },
     "execution_count": 88,
     "metadata": {},
     "output_type": "execute_result"
    }
   ],
   "source": [
    "data_new.shape"
   ]
  },
  {
   "cell_type": "code",
   "execution_count": 89,
   "id": "6080dc3d",
   "metadata": {},
   "outputs": [],
   "source": [
    "#no of women in the sample\n",
    "count = data_new[\"Gender\"].value_counts()[0]\n",
    "\n",
    "#no. of obs\n",
    "nobs = len(data_new[\"Gender\"])\n",
    "\n",
    "#hypothesise value\n",
    "p0 = 0.35"
   ]
  },
  {
   "cell_type": "code",
   "execution_count": 90,
   "id": "f0b42af8",
   "metadata": {},
   "outputs": [
    {
     "data": {
      "text/plain": [
       "10175"
      ]
     },
     "execution_count": 90,
     "metadata": {},
     "output_type": "execute_result"
    }
   ],
   "source": [
    "count"
   ]
  },
  {
   "cell_type": "code",
   "execution_count": 91,
   "id": "78e07c88",
   "metadata": {},
   "outputs": [
    {
     "data": {
      "text/plain": [
       "49390"
      ]
     },
     "execution_count": 91,
     "metadata": {},
     "output_type": "execute_result"
    }
   ],
   "source": [
    "nobs"
   ]
  },
  {
   "cell_type": "code",
   "execution_count": null,
   "id": "7c36a809",
   "metadata": {},
   "outputs": [],
   "source": []
  },
  {
   "cell_type": "code",
   "execution_count": 92,
   "id": "fd9b253a",
   "metadata": {},
   "outputs": [
    {
     "data": {
      "text/plain": [
       "1    0.793987\n",
       "0    0.206013\n",
       "Name: Gender, dtype: float64"
      ]
     },
     "execution_count": 92,
     "metadata": {},
     "output_type": "execute_result"
    }
   ],
   "source": [
    "data_new[\"Gender\"].value_counts()/nobs"
   ]
  },
  {
   "cell_type": "code",
   "execution_count": null,
   "id": "b36016fd",
   "metadata": {},
   "outputs": [],
   "source": [
    "#Ztest - used to determine whether two population means are different when the variances are known."
   ]
  },
  {
   "cell_type": "code",
   "execution_count": 93,
   "id": "02a9eadc",
   "metadata": {},
   "outputs": [],
   "source": [
    "from statsmodels.stats.proportion import proportions_ztest"
   ]
  },
  {
   "cell_type": "code",
   "execution_count": 94,
   "id": "5cb16088",
   "metadata": {},
   "outputs": [
    {
     "name": "stdout",
     "output_type": "stream",
     "text": [
      "-79.12020590883206 0.0\n"
     ]
    }
   ],
   "source": [
    "z_stat, p_value = proportions_ztest(count=count,nobs=nobs, value=p0)\n",
    "print(z_stat, p_value)"
   ]
  },
  {
   "cell_type": "code",
   "execution_count": null,
   "id": "98ab7d10",
   "metadata": {},
   "outputs": [],
   "source": [
    "#p-value is less than 0.05, reject the null hypothesis i.e.., proportion is not 35%"
   ]
  },
  {
   "cell_type": "markdown",
   "id": "b9a45359",
   "metadata": {},
   "source": [
    "Is the average purchase made by men and women of the age 18-25 same?"
   ]
  },
  {
   "cell_type": "code",
   "execution_count": 95,
   "id": "30fcd004",
   "metadata": {},
   "outputs": [],
   "source": [
    "#null hypothesis - average spends are equal \n",
    "#alternate hypothesis - average spends are not equal\n",
    "\n",
    "data_men = data.loc[(data['Gender'] == 1)& (data['Age'] == 1)]\n",
    "data_women = data.loc[(data['Gender'] == 0) & (data['Age'] == 1)]"
   ]
  },
  {
   "cell_type": "code",
   "execution_count": 96,
   "id": "a92aa16a",
   "metadata": {},
   "outputs": [],
   "source": [
    "#creating samples\n",
    "data_men_sample = data_men.sample(500, random_state=0)\n",
    "data_women_sample = data_women.sample(500, random_state=0)"
   ]
  },
  {
   "cell_type": "code",
   "execution_count": 97,
   "id": "0226fda7",
   "metadata": {},
   "outputs": [
    {
     "name": "stdout",
     "output_type": "stream",
     "text": [
      "25403579.49849695\n",
      "26680870.93292181\n"
     ]
    }
   ],
   "source": [
    "#checking variances of the two samples\n",
    "print(data_men_sample.Purchase.var())\n",
    "print(data_women_sample.Purchase.var())"
   ]
  },
  {
   "cell_type": "code",
   "execution_count": 98,
   "id": "d296a655",
   "metadata": {},
   "outputs": [
    {
     "name": "stdout",
     "output_type": "stream",
     "text": [
      "11885.35\n",
      "10758.212\n"
     ]
    }
   ],
   "source": [
    "#sample means \n",
    "print(data_men_sample.Purchase.mean())\n",
    "print(data_women_sample.Purchase.mean())"
   ]
  },
  {
   "cell_type": "code",
   "execution_count": 99,
   "id": "dd7ce29d",
   "metadata": {},
   "outputs": [
    {
     "data": {
      "text/plain": [
       "1.1047700119685318"
      ]
     },
     "execution_count": 99,
     "metadata": {},
     "output_type": "execute_result"
    }
   ],
   "source": [
    "#compute f statistic\n",
    "from scipy.stats import f #f-test is used to compare the variances\n",
    "F = data_men_sample.Purchase.mean()/data_women_sample.Purchase.mean()\n",
    "F"
   ]
  },
  {
   "cell_type": "code",
   "execution_count": 100,
   "id": "70bf4033",
   "metadata": {},
   "outputs": [
    {
     "name": "stdout",
     "output_type": "stream",
     "text": [
      "499 499\n"
     ]
    }
   ],
   "source": [
    "#calculating the degrees of freedom \n",
    "\n",
    "#Degrees of freedom is the number of independent pieces of \n",
    "#information used to calculate a statistic.\n",
    "\n",
    "df1 = len(data_men_sample) - 1\n",
    "df2 = len(data_women_sample) - 1\n",
    "\n",
    "print(df1, df2)"
   ]
  },
  {
   "cell_type": "code",
   "execution_count": 101,
   "id": "2ae40a44",
   "metadata": {},
   "outputs": [
    {
     "data": {
      "text/plain": [
       "0.8669472154638921"
      ]
     },
     "execution_count": 101,
     "metadata": {},
     "output_type": "execute_result"
    }
   ],
   "source": [
    "#p-value\n",
    "\n",
    "#cdf - The cumulative distribution function is used \n",
    "#to describe the probability distribution of random variables\n",
    "\n",
    "import scipy\n",
    "scipy.stats.f.cdf(F, df1, df2)"
   ]
  },
  {
   "cell_type": "code",
   "execution_count": null,
   "id": "e97df706",
   "metadata": {},
   "outputs": [],
   "source": [
    "#the p-value is greater than 0.05, do not reject the null hypothesis. \n",
    "#the null hypothesis is true. The average purchases are same. "
   ]
  },
  {
   "cell_type": "markdown",
   "id": "4d48ced2",
   "metadata": {},
   "source": [
    "Is the percentage of men who have spent more than 10000 the same for the\n",
    "ages 18-25 and 26-35?"
   ]
  },
  {
   "cell_type": "code",
   "execution_count": 102,
   "id": "c7593d5f",
   "metadata": {},
   "outputs": [],
   "source": [
    "#null hypothesis - Percentage of the men in the age groups is same\n",
    "#alternate hypothesis - Percentage of the men in the age groups is not same\n",
    "\n",
    "data_age1 = data.loc[(data['Age'] == 1) & (data['Purchase'] > 10000)]\n",
    "data_age2 = data.loc[(data['Age'] == 2) & (data['Purchase'] > 10000)]"
   ]
  },
  {
   "cell_type": "code",
   "execution_count": 103,
   "id": "56359de5",
   "metadata": {},
   "outputs": [],
   "source": [
    "data_age1_sample = data_age1.sample(1000, random_state=0)\n",
    "data_age2_sample = data_age2.sample(1000, random_state=0)"
   ]
  },
  {
   "cell_type": "code",
   "execution_count": 104,
   "id": "a1448d03",
   "metadata": {},
   "outputs": [],
   "source": [
    "count = [(data_age1_sample['Gender'] == 1).sum(), (data_age2_sample['Gender'] == 1).sum()]\n",
    "\n",
    "nobs = [(len(data_age1_sample)), len(data_age2_sample)]"
   ]
  },
  {
   "cell_type": "code",
   "execution_count": 105,
   "id": "5256945e",
   "metadata": {},
   "outputs": [
    {
     "data": {
      "text/plain": [
       "[815, 828]"
      ]
     },
     "execution_count": 105,
     "metadata": {},
     "output_type": "execute_result"
    }
   ],
   "source": [
    "count"
   ]
  },
  {
   "cell_type": "code",
   "execution_count": 106,
   "id": "ec018df8",
   "metadata": {},
   "outputs": [
    {
     "data": {
      "text/plain": [
       "[1000, 1000]"
      ]
     },
     "execution_count": 106,
     "metadata": {},
     "output_type": "execute_result"
    }
   ],
   "source": [
    "nobs"
   ]
  },
  {
   "cell_type": "code",
   "execution_count": 107,
   "id": "d8b8b14a",
   "metadata": {},
   "outputs": [],
   "source": [
    "from statsmodels.stats.proportion import proportions_ztest\n",
    "stat_2sample, p_value_2sample = proportions_ztest(count=count, \n",
    "                                                  nobs=nobs)"
   ]
  },
  {
   "cell_type": "code",
   "execution_count": 108,
   "id": "79348d36",
   "metadata": {},
   "outputs": [
    {
     "data": {
      "text/plain": [
       "0.44778597581119517"
      ]
     },
     "execution_count": 108,
     "metadata": {},
     "output_type": "execute_result"
    }
   ],
   "source": [
    "p_value_2sample"
   ]
  },
  {
   "cell_type": "code",
   "execution_count": null,
   "id": "5f0fd46d",
   "metadata": {},
   "outputs": [],
   "source": [
    "#p value is more than 0.05, accept the null hypthesis. \n",
    "#therefore, Percentage of the men in the age groups is same"
   ]
  },
  {
   "cell_type": "code",
   "execution_count": null,
   "id": "49269667",
   "metadata": {},
   "outputs": [],
   "source": []
  }
 ],
 "metadata": {
  "kernelspec": {
   "display_name": "Python 3 (ipykernel)",
   "language": "python",
   "name": "python3"
  },
  "language_info": {
   "codemirror_mode": {
    "name": "ipython",
    "version": 3
   },
   "file_extension": ".py",
   "mimetype": "text/x-python",
   "name": "python",
   "nbconvert_exporter": "python",
   "pygments_lexer": "ipython3",
   "version": "3.9.12"
  }
 },
 "nbformat": 4,
 "nbformat_minor": 5
}
